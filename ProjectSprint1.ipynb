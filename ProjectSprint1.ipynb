{
 "cells": [
  {
   "cell_type": "markdown",
   "metadata": {},
   "source": [
    "<b>Hier begint real-deal sprint 1 notebook:<b>"
   ]
  },
  {
   "cell_type": "markdown",
   "metadata": {},
   "source": [
    "# Sprint 1: Data analysis and supervised learning"
   ]
  },
  {
   "cell_type": "markdown",
   "metadata": {},
   "source": [
    "We start by importing our required libraries and loading our dataset into a pandas dataframe:"
   ]
  },
  {
   "cell_type": "code",
   "execution_count": 1,
   "metadata": {},
   "outputs": [
    {
     "data": {
      "text/html": [
       "<div>\n",
       "<style scoped>\n",
       "    .dataframe tbody tr th:only-of-type {\n",
       "        vertical-align: middle;\n",
       "    }\n",
       "\n",
       "    .dataframe tbody tr th {\n",
       "        vertical-align: top;\n",
       "    }\n",
       "\n",
       "    .dataframe thead th {\n",
       "        text-align: right;\n",
       "    }\n",
       "</style>\n",
       "<table border=\"1\" class=\"dataframe\">\n",
       "  <thead>\n",
       "    <tr style=\"text-align: right;\">\n",
       "      <th></th>\n",
       "      <th>Date received</th>\n",
       "      <th>Product</th>\n",
       "      <th>Sub-product</th>\n",
       "      <th>Issue</th>\n",
       "      <th>Sub-issue</th>\n",
       "      <th>Consumer complaint narrative</th>\n",
       "      <th>Company public response</th>\n",
       "      <th>Company</th>\n",
       "      <th>State</th>\n",
       "      <th>ZIP code</th>\n",
       "      <th>Tags</th>\n",
       "      <th>Consumer consent provided?</th>\n",
       "      <th>Submitted via</th>\n",
       "      <th>Date sent to company</th>\n",
       "      <th>Company response to consumer</th>\n",
       "      <th>Timely response?</th>\n",
       "      <th>Consumer disputed?</th>\n",
       "      <th>Complaint ID</th>\n",
       "    </tr>\n",
       "  </thead>\n",
       "  <tbody>\n",
       "    <tr>\n",
       "      <th>0</th>\n",
       "      <td>07/23/19</td>\n",
       "      <td>Credit reporting, credit repair services, or o...</td>\n",
       "      <td>Credit reporting</td>\n",
       "      <td>Credit monitoring or identity theft protection...</td>\n",
       "      <td>Problem canceling credit monitoring or identif...</td>\n",
       "      <td>I have complained many times that the credit r...</td>\n",
       "      <td>Company has responded to the consumer and the ...</td>\n",
       "      <td>Experian Information Solutions Inc.</td>\n",
       "      <td>CA</td>\n",
       "      <td>926XX</td>\n",
       "      <td>None</td>\n",
       "      <td>Consent provided</td>\n",
       "      <td>Web</td>\n",
       "      <td>07/23/19</td>\n",
       "      <td>Closed with explanation</td>\n",
       "      <td>Yes</td>\n",
       "      <td>NaN</td>\n",
       "      <td>3315279</td>\n",
       "    </tr>\n",
       "  </tbody>\n",
       "</table>\n",
       "</div>"
      ],
      "text/plain": [
       "  Date received                                            Product  \\\n",
       "0      07/23/19  Credit reporting, credit repair services, or o...   \n",
       "\n",
       "        Sub-product                                              Issue  \\\n",
       "0  Credit reporting  Credit monitoring or identity theft protection...   \n",
       "\n",
       "                                           Sub-issue  \\\n",
       "0  Problem canceling credit monitoring or identif...   \n",
       "\n",
       "                        Consumer complaint narrative  \\\n",
       "0  I have complained many times that the credit r...   \n",
       "\n",
       "                             Company public response  \\\n",
       "0  Company has responded to the consumer and the ...   \n",
       "\n",
       "                               Company State ZIP code  Tags  \\\n",
       "0  Experian Information Solutions Inc.    CA    926XX  None   \n",
       "\n",
       "  Consumer consent provided? Submitted via Date sent to company  \\\n",
       "0           Consent provided           Web             07/23/19   \n",
       "\n",
       "  Company response to consumer Timely response? Consumer disputed?  \\\n",
       "0      Closed with explanation              Yes                NaN   \n",
       "\n",
       "   Complaint ID  \n",
       "0       3315279  "
      ]
     },
     "execution_count": 1,
     "metadata": {},
     "output_type": "execute_result"
    }
   ],
   "source": [
    "import pandas as pd\n",
    "import numpy as np\n",
    "import matplotlib.pyplot as plt\n",
    "import seaborn as sns\n",
    "data=pd.read_csv(\"data/complaints-2020-01-22_08_24.csv\")\n",
    "data.head(1)\n",
    "# data.describe(include='all') #anders enkel numerieke waarden statistieken"
   ]
  },
  {
   "cell_type": "markdown",
   "metadata": {},
   "source": [
    "From the dataset, we can extract the following columns with the type of data it contains:"
   ]
  },
  {
   "cell_type": "code",
   "execution_count": 2,
   "metadata": {},
   "outputs": [
    {
     "data": {
      "text/plain": [
       "Date received                   object\n",
       "Product                         object\n",
       "Sub-product                     object\n",
       "Issue                           object\n",
       "Sub-issue                       object\n",
       "Consumer complaint narrative    object\n",
       "Company public response         object\n",
       "Company                         object\n",
       "State                           object\n",
       "ZIP code                        object\n",
       "Tags                            object\n",
       "Consumer consent provided?      object\n",
       "Submitted via                   object\n",
       "Date sent to company            object\n",
       "Company response to consumer    object\n",
       "Timely response?                object\n",
       "Consumer disputed?              object\n",
       "Complaint ID                     int64\n",
       "dtype: object"
      ]
     },
     "execution_count": 2,
     "metadata": {},
     "output_type": "execute_result"
    }
   ],
   "source": [
    "data_features = data.dtypes\n",
    "data_features"
   ]
  },
  {
   "cell_type": "markdown",
   "metadata": {},
   "source": [
    "We start by transforming al the empty fields to the same value so we change all NaN of consumer disputed to None:"
   ]
  },
  {
   "cell_type": "code",
   "execution_count": 14,
   "metadata": {},
   "outputs": [
    {
     "data": {
      "text/plain": [
       "0         None\n",
       "1         None\n",
       "2         None\n",
       "3         None\n",
       "4         None\n",
       "          ... \n",
       "485696      No\n",
       "485697      No\n",
       "485698      No\n",
       "485699      No\n",
       "485700      No\n",
       "Name: Consumer disputed?, Length: 485701, dtype: object"
      ]
     },
     "execution_count": 14,
     "metadata": {},
     "output_type": "execute_result"
    }
   ],
   "source": [
    "data[\"Consumer disputed?\"].fillna(\"None\")"
   ]
  },
  {
   "cell_type": "markdown",
   "metadata": {},
   "source": [
    "To make the processing faster, we change all categorical data to numerical values and add them to the dataframe:"
   ]
  },
  {
   "cell_type": "code",
   "execution_count": 23,
   "metadata": {},
   "outputs": [
    {
     "data": {
      "text/html": [
       "<div>\n",
       "<style scoped>\n",
       "    .dataframe tbody tr th:only-of-type {\n",
       "        vertical-align: middle;\n",
       "    }\n",
       "\n",
       "    .dataframe tbody tr th {\n",
       "        vertical-align: top;\n",
       "    }\n",
       "\n",
       "    .dataframe thead th {\n",
       "        text-align: right;\n",
       "    }\n",
       "</style>\n",
       "<table border=\"1\" class=\"dataframe\">\n",
       "  <thead>\n",
       "    <tr style=\"text-align: right;\">\n",
       "      <th></th>\n",
       "      <th>Date received</th>\n",
       "      <th>Product</th>\n",
       "      <th>Sub-product</th>\n",
       "      <th>Issue</th>\n",
       "      <th>Sub-issue</th>\n",
       "      <th>Consumer complaint narrative</th>\n",
       "      <th>Company public response</th>\n",
       "      <th>Company</th>\n",
       "      <th>State</th>\n",
       "      <th>ZIP code</th>\n",
       "      <th>...</th>\n",
       "      <th>Consumer disputed?</th>\n",
       "      <th>Complaint ID</th>\n",
       "      <th>num_Product</th>\n",
       "      <th>num_Sub-product</th>\n",
       "      <th>num_Issue</th>\n",
       "      <th>num_Sub-issue</th>\n",
       "      <th>num_Company</th>\n",
       "      <th>num_State</th>\n",
       "      <th>num_Submitted via</th>\n",
       "      <th>num_Company response to consumer</th>\n",
       "    </tr>\n",
       "  </thead>\n",
       "  <tbody>\n",
       "    <tr>\n",
       "      <th>0</th>\n",
       "      <td>07/23/19</td>\n",
       "      <td>Credit reporting, credit repair services, or o...</td>\n",
       "      <td>Credit reporting</td>\n",
       "      <td>Credit monitoring or identity theft protection...</td>\n",
       "      <td>Problem canceling credit monitoring or identif...</td>\n",
       "      <td>I have complained many times that the credit r...</td>\n",
       "      <td>Company has responded to the consumer and the ...</td>\n",
       "      <td>Experian Information Solutions Inc.</td>\n",
       "      <td>CA</td>\n",
       "      <td>926XX</td>\n",
       "      <td>...</td>\n",
       "      <td>NaN</td>\n",
       "      <td>3315279</td>\n",
       "      <td>6</td>\n",
       "      <td>15</td>\n",
       "      <td>45</td>\n",
       "      <td>127</td>\n",
       "      <td>1488</td>\n",
       "      <td>8</td>\n",
       "      <td>0</td>\n",
       "      <td>1</td>\n",
       "    </tr>\n",
       "    <tr>\n",
       "      <th>1</th>\n",
       "      <td>07/26/19</td>\n",
       "      <td>Debt collection</td>\n",
       "      <td>I do not know</td>\n",
       "      <td>False statements or representation</td>\n",
       "      <td>Attempted to collect wrong amount</td>\n",
       "      <td>please review the current fraud account and al...</td>\n",
       "      <td>Company believes it acted appropriately as aut...</td>\n",
       "      <td>Ideal Collection Services, Inc.</td>\n",
       "      <td>FL</td>\n",
       "      <td>333XX</td>\n",
       "      <td>...</td>\n",
       "      <td>NaN</td>\n",
       "      <td>3319487</td>\n",
       "      <td>7</td>\n",
       "      <td>33</td>\n",
       "      <td>56</td>\n",
       "      <td>9</td>\n",
       "      <td>2052</td>\n",
       "      <td>13</td>\n",
       "      <td>0</td>\n",
       "      <td>1</td>\n",
       "    </tr>\n",
       "  </tbody>\n",
       "</table>\n",
       "<p>2 rows × 26 columns</p>\n",
       "</div>"
      ],
      "text/plain": [
       "  Date received                                            Product  \\\n",
       "0      07/23/19  Credit reporting, credit repair services, or o...   \n",
       "1      07/26/19                                    Debt collection   \n",
       "\n",
       "        Sub-product                                              Issue  \\\n",
       "0  Credit reporting  Credit monitoring or identity theft protection...   \n",
       "1     I do not know                 False statements or representation   \n",
       "\n",
       "                                           Sub-issue  \\\n",
       "0  Problem canceling credit monitoring or identif...   \n",
       "1                  Attempted to collect wrong amount   \n",
       "\n",
       "                        Consumer complaint narrative  \\\n",
       "0  I have complained many times that the credit r...   \n",
       "1  please review the current fraud account and al...   \n",
       "\n",
       "                             Company public response  \\\n",
       "0  Company has responded to the consumer and the ...   \n",
       "1  Company believes it acted appropriately as aut...   \n",
       "\n",
       "                               Company State ZIP code  ... Consumer disputed?  \\\n",
       "0  Experian Information Solutions Inc.    CA    926XX  ...                NaN   \n",
       "1      Ideal Collection Services, Inc.    FL    333XX  ...                NaN   \n",
       "\n",
       "  Complaint ID num_Product num_Sub-product num_Issue num_Sub-issue  \\\n",
       "0      3315279           6              15        45           127   \n",
       "1      3319487           7              33        56             9   \n",
       "\n",
       "  num_Company  num_State  num_Submitted via  num_Company response to consumer  \n",
       "0        1488          8                  0                                 1  \n",
       "1        2052         13                  0                                 1  \n",
       "\n",
       "[2 rows x 26 columns]"
      ]
     },
     "execution_count": 23,
     "metadata": {},
     "output_type": "execute_result"
    }
   ],
   "source": [
    "data[\"num_Product\"] = data[\"Product\"].astype(\"category\").cat.codes\n",
    "data[\"num_Sub-product\"] = data[\"Sub-product\"].astype(\"category\").cat.codes\n",
    "data[\"num_Issue\"] = data[\"Issue\"].astype(\"category\").cat.codes\n",
    "data[\"num_Sub-issue\"] = data[\"Sub-issue\"].astype(\"category\").cat.codes\n",
    "data[\"num_Company\"] = data[\"Company\"].astype(\"category\").cat.codes\n",
    "data[\"num_State\"] = data[\"State\"].astype(\"category\").cat.codes\n",
    "data[\"num_Submitted via\"] = data[\"Submitted via\"].astype(\"category\").cat.codes\n",
    "data[\"num_Company response to consumer\"] = data[\"Company response to consumer\"].astype(\"category\").cat.codes\n",
    "data.head(2)"
   ]
  },
  {
   "cell_type": "markdown",
   "metadata": {},
   "source": [
    "<b>Vanaf hier alles dat nog niet officieel in de notebook zit<b>"
   ]
  },
  {
   "cell_type": "markdown",
   "metadata": {
    "code_folding": []
   },
   "source": [
    "# Plots\n",
    "\n",
    "This is the distribution of the categories of products."
   ]
  },
  {
   "cell_type": "code",
   "execution_count": 2,
   "metadata": {},
   "outputs": [
    {
     "data": {
      "text/plain": [
       "<matplotlib.axes._subplots.AxesSubplot at 0x7f9a322a0a50>"
      ]
     },
     "execution_count": 2,
     "metadata": {},
     "output_type": "execute_result"
    },
    {
     "data": {
      "image/png": "[encoded data removed]",
      "text/plain": [
       "<Figure size 720x720 with 1 Axes>"
      ]
     },
     "metadata": {
      "needs_background": "light"
     },
     "output_type": "display_data"
    }
   ],
   "source": [
    "#duplicaten vinden\n",
    "#data[data.duplicated()] #er zijn er geen over alle kolommen bekeken\n",
    "\n",
    "#data[data.duplicated([\"ZIP code\",\"Product\"])]\n",
    "\n",
    "plt.figure(figsize=(10,10))\n",
    "data[\"Product\"].value_counts().plot(kind=\"barh\")\n"
   ]
  },
  {
   "cell_type": "markdown",
   "metadata": {},
   "source": [
    "Virtual currency en money transfers => money transfer,virtual...\n",
    "payday loan => payday loan, title loan...\n",
    "prepaid card en credit card => prepaid and credit\n",
    "credit reporting => credit reporting, credit repair services...\n"
   ]
  },
  {
   "cell_type": "markdown",
   "metadata": {},
   "source": [
    "# Unnecessary columns"
   ]
  },
  {
   "cell_type": "code",
   "execution_count": 67,
   "metadata": {},
   "outputs": [
    {
     "name": "stdout",
     "output_type": "stream",
     "text": [
      "<class 'pandas.core.frame.DataFrame'>\n",
      "RangeIndex: 485701 entries, 0 to 485700\n",
      "Data columns (total 18 columns):\n",
      "Date received                   485701 non-null object\n",
      "Product                         485701 non-null object\n",
      "Sub-product                     485701 non-null object\n",
      "Issue                           485701 non-null object\n",
      "Sub-issue                       485701 non-null object\n",
      "Consumer complaint narrative    485701 non-null object\n",
      "Company public response         485701 non-null object\n",
      "Company                         485701 non-null object\n",
      "State                           485701 non-null object\n",
      "ZIP code                        485701 non-null object\n",
      "Tags                            485701 non-null object\n",
      "Consumer consent provided?      485701 non-null object\n",
      "Submitted via                   485701 non-null object\n",
      "Date sent to company            485701 non-null object\n",
      "Company response to consumer    485701 non-null object\n",
      "Timely response?                485701 non-null object\n",
      "Consumer disputed?              164067 non-null object\n",
      "Complaint ID                    485701 non-null int64\n",
      "dtypes: int64(1), object(17)\n",
      "memory usage: 66.7+ MB\n",
      "None\n"
     ]
    },
    {
     "data": {
      "text/plain": [
       "Date received                        0\n",
       "Product                              0\n",
       "Sub-product                          0\n",
       "Issue                                0\n",
       "Sub-issue                            0\n",
       "Consumer complaint narrative         0\n",
       "Company public response              0\n",
       "Company                              0\n",
       "State                                0\n",
       "ZIP code                             0\n",
       "Tags                                 0\n",
       "Consumer consent provided?           0\n",
       "Submitted via                        0\n",
       "Date sent to company                 0\n",
       "Company response to consumer         0\n",
       "Timely response?                     0\n",
       "Consumer disputed?              321634\n",
       "Complaint ID                         0\n",
       "dtype: int64"
      ]
     },
     "execution_count": 67,
     "metadata": {},
     "output_type": "execute_result"
    }
   ],
   "source": [
    "print(data.info())\n",
    "data.isnull().sum(axis=0) # over alle kolommen heen\n",
    "#data=data.drop(columns=[\"Consumer disputed?\"])"
   ]
  },
  {
   "cell_type": "markdown",
   "metadata": {},
   "source": [
    "Eerste stap : date received,complaint id, consumer disputed?, timely response?, date sent to company, consumer consent, submitted via,state en zip code,tags, Company public response,Company response to consumer weg\n",
    "\n",
    "We houden over: product,subproduct,issue,subissue,consumer complaint narrative,company\n",
    "\n",
    "Volgende stap state en zip code, (tags?) meepakken"
   ]
  },
  {
   "cell_type": "code",
   "execution_count": 68,
   "metadata": {},
   "outputs": [
    {
     "data": {
      "text/plain": [
       "array(['Experian Information Solutions Inc.',\n",
       "       'Ideal Collection Services, Inc.',\n",
       "       'ONEMAIN FINANCIAL HOLDINGS, LLC.', ..., 'Homes By Hunt LLC',\n",
       "       'Maxitransfers Corporation', 'Reliable Auto Finance, Inc.'],\n",
       "      dtype=object)"
      ]
     },
     "execution_count": 68,
     "metadata": {},
     "output_type": "execute_result"
    }
   ],
   "source": [
    "data[\"Company\"].unique()"
   ]
  },
  {
   "cell_type": "markdown",
   "metadata": {},
   "source": [
    "# Text Processing"
   ]
  },
  {
   "cell_type": "code",
   "execution_count": 13,
   "metadata": {},
   "outputs": [],
   "source": [
    "from sklearn.feature_extraction.text import CountVectorizer\n",
    "from sklearn.feature_extraction.text import TfidfTransformer\n",
    "subdata = data[[\"Complaint ID\",\"Consumer complaint narrative\",\"Product\",\"Issue\"]][:5000]\n",
    "\n",
    "count_vect = CountVectorizer(\n",
    "    stop_words=\"english\",\n",
    "    ngram_range=(1,2),\n",
    "    min_df=0.04,\n",
    "    max_df=0.7\n",
    ")\n",
    "\n",
    "X_train_counts = count_vect.fit_transform(subdata[\"Consumer complaint narrative\"])\n",
    "feature_names=count_vect.get_feature_names()"
   ]
  },
  {
   "cell_type": "code",
   "execution_count": 18,
   "metadata": {},
   "outputs": [],
   "source": [
    "tf_transformer = TfidfTransformer()\n",
    "X_train_tf = tf_transformer.fit_transform(X_train_counts)"
   ]
  },
  {
   "cell_type": "code",
   "execution_count": 19,
   "metadata": {},
   "outputs": [
    {
     "name": "stdout",
     "output_type": "stream",
     "text": [
      "EXPERIAN AND XXXX XXXX XXXX XXXX ARE WRONGFULLY PUTTING FORTH INFORMATION THAT APPEARS HONEST AND CORRECT ON ITS FACE YET, WHEN THE RESULTS OF INVESTIGATION AND FACTS IN THE COMMON PURVIEW ARE REVEALED ... EXPERIAN AND XXXX XXXX XXXX HAVE A LEGAL PROBLEM WITH THEIR ATTITUDE AND INSISTENCE ON A LACK OF FORBEARANCE TO STATE SOFTLY AND MAY BE CONTRARY TO XXXX XXXX CHECK CLEARING LAWS, THE FCRA AND THE FDCPA.HERE AND BELOW I STATE MY SIMPLE CASE THAT I WOULD BE HAPPY TO BE HEARD BY A SMALL CLAIMS MAGISTRATE AND THE XXXX XXXX XXXX WHICH EXPERIAN AND OR XXXX XXXX WOULD LIKELY APPEAL TO ... ... ..SHOULD I DECIDE TO SPEND {$60.00} TO TAKE THIS CFPB CASE TO COURT. \n",
      "XXXX XXXX XXXX XXXX. ACCOUNT NO XXXX .... HAS DESTROYED MY CREDIT FOR 5 YEARS BECAUSE XXXX XXXX CLAIMS THEY WERE NOT PAID {$250.00} THE FINAL PARTIAL PAYMENT ON A CAR LOAN ... XXXX XXXX 'S PRESIDENT 'S OFFICE HAS RESPONDED TO EARLIER CFPB COMPLAINT STATING THAT MY FINAL CHECK BOUNCED AND THAT THAT CHECK TOOK 47 DAYS TO BOUNCE OR BE CLAWED BACK BUT THAT WF HAD A BAD CHECK FROM ME DETERMINED 47 DAYS AFTER RECEIPT FROM ME. \n",
      "THIS CAR LOAN WAS PART OF A GROUP OF LOANS UNDER AND STILL IS UNDER SCRUTINY OF THE CFPB AND THAT XXXX PAID XXXX XXXX AND THE PRINCIPAL OF FOREBEARANCE WAS USED TO REDUCE THAT XXXX XXXX DOLLAR FINE TO XXXX XXXX FROM XXXX XXXX DOLLARS ... \n",
      "THE LARGEST CFPB FINE IN HISTORY AGAINST A BANK FOR UNSAVORY BEHAVIOR BY THE CEO CFO AND IT HEADS .... XXXX XXXX. \n",
      "HERE IS THE ISSUE ... DURING THIS YEARS LONG TIME WHERE XXXX WAS MISSING {$250.00} FROM ME THEY WERE ACTUALLY IN POSSESSION OF IT BECAUSE THE CFPB DETERMINED THAT XXXX STOLE THAT MUCH FROM ME IN MY AUTO LOAN GIVING INSURANCE REQUIREMENTS THAT WERE ILLEGAL. \n",
      "SINCE THE CFPB DETERMINATION, LONG AFTER THE 5 YEARS OF DESTRUCTIVE CREDIT REPORTING BEGAN UN-CEASELESSLY I RECEIVED A CHECK FOR AN AMOUNT SIMILAR TO THE XXXX DOLLARS BECAUSE XXXX WAS FORCED BY THE CFPB TO RETURN AT LEAST A PORTION OF THE MONEY WELLS STOLE FROM ME BACK TO ME .... \n",
      "SO WHILE XXXX WAS CLAIMED XXXX DOLLARS OWED TO THEM, THEY ACTUALLY POSSESSED STOLEN FUNDS THAT THEY CRAFTILY STOLE FROM ME IN MONTHLY PAYMENTS THAT EXCEEDED THE XXXX DOLLARS THEY WANTED BACK BECAUSE MY CHECK TOOK 47 DAYS TO BOUNCE. \n",
      "\n",
      "WHAT DO YOU SAY ... SHOULD WELLS AND EXPERIAN GO TO SMALL CLAIMS AND SUPERIOR COURT WITH ME OR MAKE A BUSINESS DECISION AND DELETE THIS ACCOUNT?\n",
      "Credit reporting, credit repair services, or other personal consumer reports\n",
      "Incorrect information on your report\n"
     ]
    },
    {
     "data": {
      "text/html": [
       "<div>\n",
       "<style scoped>\n",
       "    .dataframe tbody tr th:only-of-type {\n",
       "        vertical-align: middle;\n",
       "    }\n",
       "\n",
       "    .dataframe tbody tr th {\n",
       "        vertical-align: top;\n",
       "    }\n",
       "\n",
       "    .dataframe thead th {\n",
       "        text-align: right;\n",
       "    }\n",
       "</style>\n",
       "<table border=\"1\" class=\"dataframe\">\n",
       "  <thead>\n",
       "    <tr style=\"text-align: right;\">\n",
       "      <th></th>\n",
       "      <th>tfidf</th>\n",
       "    </tr>\n",
       "  </thead>\n",
       "  <tbody>\n",
       "    <tr>\n",
       "      <th>xxxx xxxx</th>\n",
       "      <td>0.510386</td>\n",
       "    </tr>\n",
       "    <tr>\n",
       "      <th>cfpb</th>\n",
       "      <td>0.462804</td>\n",
       "    </tr>\n",
       "    <tr>\n",
       "      <th>check</th>\n",
       "      <td>0.350830</td>\n",
       "    </tr>\n",
       "    <tr>\n",
       "      <th>experian</th>\n",
       "      <td>0.267908</td>\n",
       "    </tr>\n",
       "    <tr>\n",
       "      <th>claims</th>\n",
       "      <td>0.209606</td>\n",
       "    </tr>\n",
       "    <tr>\n",
       "      <th>years</th>\n",
       "      <td>0.159840</td>\n",
       "    </tr>\n",
       "    <tr>\n",
       "      <th>loan</th>\n",
       "      <td>0.140736</td>\n",
       "    </tr>\n",
       "    <tr>\n",
       "      <th>car</th>\n",
       "      <td>0.139255</td>\n",
       "    </tr>\n",
       "    <tr>\n",
       "      <th>days</th>\n",
       "      <td>0.138225</td>\n",
       "    </tr>\n",
       "    <tr>\n",
       "      <th>court</th>\n",
       "      <td>0.132751</td>\n",
       "    </tr>\n",
       "  </tbody>\n",
       "</table>\n",
       "</div>"
      ],
      "text/plain": [
       "              tfidf\n",
       "xxxx xxxx  0.510386\n",
       "cfpb       0.462804\n",
       "check      0.350830\n",
       "experian   0.267908\n",
       "claims     0.209606\n",
       "years      0.159840\n",
       "loan       0.140736\n",
       "car        0.139255\n",
       "days       0.138225\n",
       "court      0.132751"
      ]
     },
     "execution_count": 19,
     "metadata": {},
     "output_type": "execute_result"
    }
   ],
   "source": [
    "index=60\n",
    "print(subdata.at[index, \"Consumer complaint narrative\"])\n",
    "print(subdata.at[index, \"Product\"])\n",
    "print(subdata.at[index, \"Issue\"])\n",
    "\n",
    "\n",
    "\n",
    "features = X_train_tf[index]\n",
    "\n",
    "terms = pd.DataFrame(features.T.todense(), index=feature_names, columns=[\"tfidf\"])\n",
    "terms.sort_values(by=[\"tfidf\"],ascending=False).head(n=10)"
   ]
  },
  {
   "cell_type": "markdown",
   "metadata": {},
   "source": [
    "# K-nearest Neighbors"
   ]
  },
  {
   "cell_type": "code",
   "execution_count": null,
   "metadata": {},
   "outputs": [],
   "source": []
  }
 ],
 "metadata": {
  "kernelspec": {
   "display_name": "Python 3",
   "language": "python",
   "name": "python3"
  },
  "language_info": {
   "codemirror_mode": {
    "name": "ipython",
    "version": 3
   },
   "file_extension": ".py",
   "mimetype": "text/x-python",
   "name": "python",
   "nbconvert_exporter": "python",
   "pygments_lexer": "ipython3",
   "version": "3.7.4"
  }
 },
 "nbformat": 4,
 "nbformat_minor": 4
}
